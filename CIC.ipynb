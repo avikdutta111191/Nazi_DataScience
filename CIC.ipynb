{
 "cells": [
  {
   "cell_type": "code",
   "execution_count": 1,
   "metadata": {},
   "outputs": [
    {
     "name": "stderr",
     "output_type": "stream",
     "text": [
      "/home/cocse/anaconda3/lib/python3.7/site-packages/IPython/core/interactiveshell.py:3063: DtypeWarning: Columns (85) have mixed types.Specify dtype option on import or set low_memory=False.\n",
      "  interactivity=interactivity, compiler=compiler, result=result)\n"
     ]
    }
   ],
   "source": [
    "import pandas as pd\n",
    "\n",
    "UDPLag = pd.read_csv('./03-11/UDPLag.csv')\n",
    "#UDP = pd.read_csv('./03-11/UDP.csv')\n",
    "LDAP = pd.read_csv('./03-11/LDAP.csv')\n",
    "#MSSQL = pd.read_csv('./03-11/MSShttps://172.16.178.175:9999/notebooks/CIC.ipynb#QL.csv')\n",
    "#NetBIOS = pd.read_csv('./03-11/NetBIOS.csv')\n",
    "#Portmap = pd.read_csv('./03-11/Portmap.csv')\n",
    "#Syn = pd.read_csv('./03-11/Syn.csv')\n",
    "#frames=[UDPLag,UDP,LDAP,MSSQL,NetBIOS,Portmap,Syn]\n",
    "\n",
    "frames=[LDAP,UDPLag]\n",
    "trainData = pd.concat(frames)"
   ]
  },
  {
   "cell_type": "code",
   "execution_count": 2,
   "metadata": {},
   "outputs": [],
   "source": [
    "import numpy as np\n",
    "def cleanData(trainData_):\n",
    "  colum_=trainData_.columns\n",
    "  columns=[]\n",
    "\n",
    "  for col in colum_:\n",
    "    #col_=col.replace('/', '_')\n",
    "    #col_=col_.replace(' ', '_')\n",
    "    columns.append(col.replace('/', '_'))\n",
    "    #print(col)\n",
    "\n",
    "  trainData_.columns=columns;\n",
    "\n",
    "  trainData_.dropna()\n",
    "  np.nan_to_num(trainData_)\n",
    "  trainData_.replace([np.inf, -np.inf], np.nan).notnull().all(axis=1)\n",
    "  trainData_.replace(np.nan,0)\n",
    "  row_mask=trainData_.isnull().any(axis=1)\n",
    "  col_mask=trainData_.isnull().any(axis=0) \n",
    "  rowNumber=0\n",
    "  dropRowIndexList=[]\n",
    "  for i in row_mask:\n",
    "    if i==True:\n",
    "      print(\"droping row\",rowNumber,i)\n",
    "      trainData_.drop(trainData_.index[[rowNumber-1,rowNumber+1]],axis=0)\n",
    "      dropRowIndexList.append(rowNumber)\n",
    "      #print(\"Sucess\")\n",
    "    rowNumber=rowNumber+1   \n",
    "  #trainData_.drop(dropRowIndexList)\n",
    "  trainData_=trainData_[~trainData_.isin([np.nan, np.inf, -np.inf]).any(1)]\n",
    "\n",
    "  print(\"Sucess\")\n",
    "  return trainData_"
   ]
  },
  {
   "cell_type": "code",
   "execution_count": 3,
   "metadata": {},
   "outputs": [
    {
     "name": "stdout",
     "output_type": "stream",
     "text": [
      "16\n",
      "droping row 5290 True\n",
      "droping row 5292 True\n",
      "droping row 5327 True\n",
      "droping row 5330 True\n",
      "droping row 134955 True\n",
      "droping row 203151 True\n",
      "droping row 203161 True\n",
      "droping row 345227 True\n",
      "droping row 423313 True\n",
      "droping row 638155 True\n",
      "droping row 665354 True\n",
      "droping row 787748 True\n",
      "droping row 1899695 True\n",
      "droping row 2225741 True\n",
      "droping row 2225893 True\n",
      "droping row 2359269 True\n",
      "Sucess\n",
      "0\n"
     ]
    }
   ],
   "source": [
    "print(trainData.isnull().sum().sum())\n",
    "trainData=cleanData(trainData)\n",
    "print(trainData.isnull().sum().sum())"
   ]
  },
  {
   "cell_type": "code",
   "execution_count": 4,
   "metadata": {},
   "outputs": [],
   "source": [
    "\n",
    "X=trainData.drop(\" Label\",1)\n",
    "X=X.drop(\"Flow ID\",1)\n",
    "X=X.drop(\" Source IP\",1)\n",
    "X=X.drop(\" Destination IP\",1)\n",
    "X=X.drop(\" Timestamp\",1)\n",
    "X=X.drop(\"SimillarHTTP\",1)\n",
    "#X=X.dropna()\n",
    "\n",
    "Y=trainData[\" Label\"]\n",
    "#X_train, X_test, y_train, y_test = train_test_split(X, Y, test_size=0.4, random_state=0)\n"
   ]
  },
  {
   "cell_type": "code",
   "execution_count": 5,
   "metadata": {},
   "outputs": [
    {
     "name": "stdout",
     "output_type": "stream",
     "text": [
      "2.2.0\n"
     ]
    }
   ],
   "source": [
    "import tensorflow as tf\n",
    "\n",
    "from tensorflow import keras\n",
    "from tensorflow.keras import layers\n",
    "\n",
    "print(tf.__version__)\n",
    "\n",
    "\n",
    "import pathlib\n",
    "\n",
    "import matplotlib.pyplot as plt\n",
    "import numpy as np\n",
    "import pandas as pd\n",
    "import seaborn as sns\n",
    "\n",
    "\n",
    "\n",
    "import matplotlib.pyplot as plt\n",
    "import numpy as np\n",
    "from sklearn import datasets, linear_model\n",
    "import pandas as pd\n",
    "\n",
    "from sklearn.model_selection import KFold\n",
    "from sklearn.model_selection import cross_val_score\n",
    "from sklearn.neighbors import KNeighborsClassifier\n",
    "from sklearn.naive_bayes import GaussianNB\n",
    "\n",
    "from sklearn.metrics import mean_squared_error, r2_score\n",
    "# fix random seed for reproducibility\n",
    "np.random.seed(7)\n",
    "\n",
    "\n",
    "import numpy as np\n",
    "import matplotlib.pyplot as plt\n",
    "from matplotlib.colors import ListedColormap\n",
    "from sklearn.model_selection import train_test_split\n",
    "from sklearn.preprocessing import StandardScaler\n",
    "from sklearn.datasets import make_moons, make_circles, make_classification\n",
    "from sklearn.neural_network import MLPClassifier\n",
    "from sklearn.neighbors import KNeighborsClassifier\n",
    "from sklearn.svm import SVC\n",
    "from sklearn.gaussian_process import GaussianProcessClassifier\n",
    "from sklearn.gaussian_process.kernels import RBF\n",
    "from sklearn.tree import DecisionTreeClassifier\n",
    "from sklearn.ensemble import RandomForestClassifier, AdaBoostClassifier\n",
    "from sklearn.naive_bayes import GaussianNB\n",
    "from sklearn.discriminant_analysis import QuadraticDiscriminantAnalysis\n",
    "from sklearn import tree\n",
    "from sklearn.model_selection import KFold\n",
    "from sklearn.model_selection import cross_val_score\n",
    "from sklearn.model_selection import cross_validate\n",
    "from sklearn.model_selection import train_test_split\n",
    "from sklearn.metrics import plot_confusion_matrix\n",
    "\n",
    "X_train, X_test, y_train, y_test = train_test_split(X, Y, test_size=0.4, random_state=0)\n"
   ]
  },
  {
   "cell_type": "code",
   "execution_count": 6,
   "metadata": {},
   "outputs": [],
   "source": [
    "\n",
    "\n",
    "def PlotGraaph(scoresAll,names):\n",
    "        acc=[]\n",
    "        prec=[]\n",
    "        rec=[]\n",
    "        for i in scoresAll:\n",
    "            acc.append(i[1]['test_acc'].mean())\n",
    "            prec.append(i[1]['test_prec_macro'].mean())\n",
    "            rec.append(i[1]['test_rec_micro'].mean())\n",
    "\n",
    "        plt.bar(names,acc)\n",
    "        plt.ylabel('Accuracy');\n",
    "        plt.xlabel('Classifiers');\n",
    "        plt.title('FLOOR Acc for different Classifiers on  test data')\n",
    "        plt.show()\n",
    "\n",
    "        plt.bar(names,prec)\n",
    "        plt.ylabel('precision');\n",
    "        plt.xlabel('Classifiers');\n",
    "        plt.title('FLOOR precision for different Classifiers on test data')\n",
    "        plt.show()\n",
    "\n",
    "        plt.bar(names,rec)\n",
    "        plt.ylabel('recall');\n",
    "        plt.xlabel('Classifiers');\n",
    "        plt.title(' FLOOR recall for different Classifiers on test data')\n",
    "        plt.show()\n",
    "\n",
    "\n",
    "\n",
    "scoring = {'acc': 'accuracy','prec_macro': 'precision_macro','rec_micro': 'recall_macro'}\n",
    "\n",
    "\n",
    "\n",
    "names = [\"Nearest Neighbors\", \"RBF SVM\", \"Gaussian Process\",\n",
    "         \"Decision Tree\", \"Random Forest\", \"AdaBoost\",\n",
    "         \"Naive Bayes\"]\n",
    "\n",
    "classifiers = [\n",
    "    KNeighborsClassifier(n_neighbors=3),\n",
    "    SVC(gamma='scale', decision_function_shape='ovo'),\n",
    "    GaussianProcessClassifier(1.0 * RBF(1.0)),\n",
    "    DecisionTreeClassifier(max_depth=5),\n",
    "    RandomForestClassifier(max_depth=5, n_estimators=10, max_features=1),\n",
    "    AdaBoostClassifier(),\n",
    "    GaussianNB()]\n",
    "\n",
    "scoresAll=[]"
   ]
  },
  {
   "cell_type": "code",
   "execution_count": null,
   "metadata": {},
   "outputs": [],
   "source": [
    "for name, clf in zip(names, classifiers):\n",
    "        #ax = plt.subplot(len(datasets), len(classifiers) + 1, i)\n",
    "        scores=cross_validate(clf, X,Y, scoring=scoring,cv=5, return_train_score=True)\n",
    "        scoresAll.append((name,scores))\n",
    "\n",
    "PlotGraaph(scoresAll,names)"
   ]
  },
  {
   "cell_type": "code",
   "execution_count": 9,
   "metadata": {},
   "outputs": [
    {
     "name": "stderr",
     "output_type": "stream",
     "text": [
      "/home/cocse/anaconda3/lib/python3.7/site-packages/sklearn/svm/_base.py:947: ConvergenceWarning: Liblinear failed to converge, increase the number of iterations.\n",
      "  \"the number of iterations.\", ConvergenceWarning)\n"
     ]
    },
    {
     "name": "stdout",
     "output_type": "stream",
     "text": [
      "Confusion matrix, without normalization\n",
      "[[   464     30    348   2002    793      1]\n",
      " [     3 744480    111     53    115      1]\n",
      " [     7   2065  72502   2110      9      0]\n",
      " [     3     16     33 222625    261      0]\n",
      " [     5   2151  18702  20489   3317      0]\n",
      " [     3     80    580     47     26      2]]\n",
      "Normalized confusion matrix\n",
      "[[1.28e-01 8.25e-03 9.57e-02 5.50e-01 2.18e-01 2.75e-04]\n",
      " [4.03e-06 1.00e+00 1.49e-04 7.12e-05 1.54e-04 1.34e-06]\n",
      " [9.13e-05 2.69e-02 9.45e-01 2.75e-02 1.17e-04 0.00e+00]\n",
      " [1.35e-05 7.18e-05 1.48e-04 9.99e-01 1.17e-03 0.00e+00]\n",
      " [1.12e-04 4.82e-02 4.19e-01 4.59e-01 7.43e-02 0.00e+00]\n",
      " [4.07e-03 1.08e-01 7.86e-01 6.37e-02 3.52e-02 2.71e-03]]\n"
     ]
    },
    {
     "data": {
      "image/png": "[encoded data removed]",
      "text/plain": [
       "<Figure size 432x288 with 2 Axes>"
      ]
     },
     "metadata": {
      "needs_background": "light"
     },
     "output_type": "display_data"
    },
    {
     "data": {
      "image/png": "[encoded data removed]",
      "text/plain": [
       "<Figure size 432x288 with 2 Axes>"
      ]
     },
     "metadata": {
      "needs_background": "light"
     },
     "output_type": "display_data"
    }
   ],
   "source": [
    "from sklearn.linear_model import LogisticRegression\n",
    "\n",
    "classifier = LogisticRegression(multi_class=\"auto\", solver=\"liblinear\").fit(X_train, y_train)\n",
    "\n",
    "np.set_printoptions(precision=2)\n",
    "titles_options = [(\"Confusion matrix, without normalization\", None),\n",
    "                  (\"Normalized confusion matrix\", 'true')]\n",
    "\n",
    "for title, normalize in titles_options:\n",
    "    disp = plot_confusion_matrix(classifier, X_test, y_test,\n",
    "                                 display_labels=\"LogisticRegression\",\n",
    "                                 cmap=plt.cm.Blues,\n",
    "                                 normalize=normalize)\n",
    "    disp.ax_.set_title(title)\n",
    "\n",
    "    print(title)\n",
    "    print(disp.confusion_matrix)\n",
    "\n",
    "plt.show()"
   ]
  },
  {
   "cell_type": "code",
   "execution_count": null,
   "metadata": {},
   "outputs": [],
   "source": []
  }
 ],
 "metadata": {
  "kernelspec": {
   "display_name": "Python 3",
   "language": "python",
   "name": "python3"
  },
  "language_info": {
   "codemirror_mode": {
    "name": "ipython",
    "version": 3
   },
   "file_extension": ".py",
   "mimetype": "text/x-python",
   "name": "python",
   "nbconvert_exporter": "python",
   "pygments_lexer": "ipython3",
   "version": "3.7.6"
  }
 },
 "nbformat": 4,
 "nbformat_minor": 4
}
