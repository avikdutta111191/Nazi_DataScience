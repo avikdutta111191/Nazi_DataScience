{
 "cells": [
  {
   "cell_type": "code",
   "execution_count": 1,
   "metadata": {},
   "outputs": [],
   "source": [
    "import pandas as pd\n",
    "from sklearn.linear_model import RidgeCV\n",
    "from sklearn.ensemble import RandomForestRegressor\n",
    "from sklearn.metrics import mean_squared_error, r2_score\n",
    "from matplotlib import pyplot as plt\n",
    "from sklearn.model_selection import train_test_split\n",
    "\n",
    "train = pd.read_csv('train_data.csv')\n",
    "test = pd.read_csv('test_data.csv')\n",
    "train.Building_Painted=train.Building_Painted.map(dict(V=1, N=0))\n",
    "train.Building_Fenced=train.Building_Fenced.map(dict(V=1, N=0))\n",
    "train.Garden=train.Garden.map(dict(V=1, O=0))\n",
    "train.Settlement=train.Settlement.map(dict(U=1, R=0))\n",
    "train.NumberOfWindows=train.NumberOfWindows.replace({'   .': 0,'>=10':13})\n",
    "\n",
    "Geo_Code=[]\n",
    "\n",
    "for index, row in train.iterrows():\n",
    "    row['Geo_Code']=str(row['Geo_Code']).replace('A','10')\n",
    "    row['Geo_Code']=str(row['Geo_Code']).replace('B','11')\n",
    "    #train1.iloc[index]['Geo_Code']=row['Geo_Code']\n",
    "    #print(row['Geo_Code'])\n",
    "    Geo_Code.append(row['Geo_Code'])\n",
    "df_Geo_Code=pd.DataFrame({'Geo_Code':Geo_Code})\n",
    "\n",
    "train['Geo_Code']=Geo_Code\n",
    "train=train.dropna()\n",
    "\n",
    "\n",
    "train_Y=train['Claim']\n",
    "train_X=train.drop('Claim', 1)\n",
    "train_X=train_X.drop('Customer Id', 1)\n",
    "\n",
    "Customer=test['Customer Id']\n",
    "\n",
    "test.Building_Painted=test.Building_Painted.map(dict(V=1, N=0))\n",
    "test.Building_Fenced=test.Building_Fenced.map(dict(V=1, N=0))\n",
    "test.Garden=test.Garden.map(dict(V=1, O=0))\n",
    "test.Settlement=test.Settlement.map(dict(U=1, R=0))\n",
    "test.NumberOfWindows=test.NumberOfWindows.replace({'   .': 0,'>=10':13})\n",
    "\n",
    "Geo_Code=[]\n",
    "\n",
    "for index, row in test.iterrows():\n",
    "    row['Geo_Code']=str(row['Geo_Code']).replace('A','10')\n",
    "    row['Geo_Code']=str(row['Geo_Code']).replace('B','11')\n",
    "    #train1.iloc[index]['Geo_Code']=row['Geo_Code']\n",
    "    #print(row['Geo_Code'])\n",
    "    if not row['Geo_Code']:\n",
    "      row['Geo_Code']=0\n",
    "    Geo_Code.append(row['Geo_Code'])\n",
    "df_Geo_Code=pd.DataFrame({'Geo_Code':Geo_Code})\n",
    "\n",
    "test['Geo_Code']=Geo_Code\n",
    "test=test.fillna(0)\n",
    "test=test.interpolate(method ='linear', limit_direction ='forward')\n",
    "test.to_csv('ctt.csv',index=False)\n",
    "test=test.dropna()\n",
    "val_Sub=test['Customer Id']\n",
    "test.to_csv('tt.csv',index=False)\n",
    "test1=test.drop('Customer Id', 1)\n",
    "\n"
   ]
  },
  {
   "cell_type": "code",
   "execution_count": 2,
   "metadata": {},
   "outputs": [],
   "source": [
    "X_train, X_test, Y_train, Y_test = train_test_split(train_X, train_Y, test_size=0.1, random_state=44)\n"
   ]
  },
  {
   "cell_type": "code",
   "execution_count": 3,
   "metadata": {},
   "outputs": [
    {
     "data": {
      "text/plain": [
       "(5888, 12)"
      ]
     },
     "execution_count": 3,
     "metadata": {},
     "output_type": "execute_result"
    }
   ],
   "source": [
    "X_train.shape"
   ]
  },
  {
   "cell_type": "code",
   "execution_count": 4,
   "metadata": {},
   "outputs": [],
   "source": [
    "#Normalizing the data\n",
    "from sklearn.preprocessing import StandardScaler\n",
    "sc = StandardScaler()\n",
    "X_T = sc.fit_transform(X_train)\n",
    "X_Te = sc.fit_transform(X_test)\n",
    "from sklearn.preprocessing import OneHotEncoder\n",
    "ohe = OneHotEncoder()\n",
    "Y_T = ohe.fit_transform(Y_train.values.reshape(-1, 1)).toarray()\n",
    "Y_Te = ohe.fit_transform(Y_test.values.reshape(-1, 1)).toarray()"
   ]
  },
  {
   "cell_type": "code",
   "execution_count": null,
   "metadata": {},
   "outputs": [],
   "source": [
    "#Dependencies\n",
    "import keras\n",
    "from keras.models import Sequential\n",
    "from keras.layers import Dense# Neural network\n",
    "model = Sequential()\n",
    "model.add(Dense(12, input_dim=12, activation='relu'))\n",
    "model.add(Dense(30, activation='sigmoid'))\n",
    "model.add(Dense(30, activation='sigmoid'))\n",
    "model.add(Dense(30, activation='sigmoid'))\n",
    "#model.add(Dropout(0.25))\n",
    "#model.add(Dense(30, activation='softsign'))\n",
    "#model.add(Dense(30, activation='sigmoid'))\n",
    "#model.add(Dense(30, activation='tanh'))\n",
    "#model.add(Dense(30, activation='selu'))\n",
    "model.add(Dense(30, activation='sigmoid'))\n",
    "\n",
    "model.add(Dense(2, activation='sigmoid'))"
   ]
  },
  {
   "cell_type": "code",
   "execution_count": null,
   "metadata": {},
   "outputs": [],
   "source": [
    "model.compile(loss='categorical_crossentropy', optimizer='Adam', metrics=['accuracy'])"
   ]
  },
  {
   "cell_type": "code",
   "execution_count": null,
   "metadata": {},
   "outputs": [],
   "source": [
    "history = model.fit(X_T, Y_T, epochs=1000, batch_size=100)"
   ]
  },
  {
   "cell_type": "code",
   "execution_count": null,
   "metadata": {},
   "outputs": [],
   "source": [
    "y_pred = model.predict(X_Te)\n",
    "#Converting predictions to label\n",
    "pred = list()\n",
    "for i in range(len(y_pred)):\n",
    "    pred.append(np.argmax(y_pred[i]))\n",
    "#Converting one hot encoded test label to label\n",
    "test = list()\n",
    "for i in range(len(Y_Te)):\n",
    "    test.append(np.argmax(Y_Te[i]))"
   ]
  },
  {
   "cell_type": "code",
   "execution_count": null,
   "metadata": {},
   "outputs": [],
   "source": [
    "from sklearn.metrics import accuracy_score\n",
    "a = accuracy_score(pred,test)\n",
    "print('Accuracy is:', a*100)"
   ]
  },
  {
   "cell_type": "code",
   "execution_count": null,
   "metadata": {},
   "outputs": [],
   "source": [
    "pred"
   ]
  },
  {
   "cell_type": "code",
   "execution_count": null,
   "metadata": {},
   "outputs": [],
   "source": [
    "val_x = sc.fit_transform(test1)\n",
    "val_y=model.predict(val_x)"
   ]
  },
  {
   "cell_type": "code",
   "execution_count": null,
   "metadata": {},
   "outputs": [],
   "source": [
    "val_y"
   ]
  },
  {
   "cell_type": "code",
   "execution_count": null,
   "metadata": {},
   "outputs": [],
   "source": [
    "pred_ = list()\n",
    "for i in range(len(val_y)):\n",
    "    pred_.append(np.argmax(val_y[i]))"
   ]
  },
  {
   "cell_type": "code",
   "execution_count": null,
   "metadata": {},
   "outputs": [],
   "source": [
    "pred_"
   ]
  },
  {
   "cell_type": "code",
   "execution_count": null,
   "metadata": {},
   "outputs": [],
   "source": [
    "cal_claim=pd.DataFrame({'Customer Id':val_Sub,'Claim':pred_})"
   ]
  },
  {
   "cell_type": "code",
   "execution_count": null,
   "metadata": {},
   "outputs": [],
   "source": [
    "cal_claim.to_csv('nnSub.csv',index=False)"
   ]
  },
  {
   "cell_type": "code",
   "execution_count": null,
   "metadata": {},
   "outputs": [],
   "source": []
  },
  {
   "cell_type": "code",
   "execution_count": null,
   "metadata": {},
   "outputs": [],
   "source": []
  }
 ],
 "metadata": {
  "kernelspec": {
   "display_name": "Python 3",
   "language": "python",
   "name": "python3"
  },
  "language_info": {
   "codemirror_mode": {
    "name": "ipython",
    "version": 3
   },
   "file_extension": ".py",
   "mimetype": "text/x-python",
   "name": "python",
   "nbconvert_exporter": "python",
   "pygments_lexer": "ipython3",
   "version": "3.7.6"
  }
 },
 "nbformat": 4,
 "nbformat_minor": 4
}
