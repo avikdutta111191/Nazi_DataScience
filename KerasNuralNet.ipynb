{
 "cells": [
  {
   "cell_type": "code",
   "execution_count": 1,
   "metadata": {},
   "outputs": [
    {
     "name": "stdout",
     "output_type": "stream",
     "text": [
      "2.2.0\n"
     ]
    }
   ],
   "source": [
    "import tensorflow as tf\n",
    "from tensorflow import keras\n",
    "\n",
    "from tensorflow import feature_column\n",
    "import numpy as np\n",
    "import matplotlib.pyplot as plt\n",
    "\n",
    "print(tf.__version__)\n",
    "import pandas as pd\n"
   ]
  },
  {
   "cell_type": "code",
   "execution_count": 2,
   "metadata": {},
   "outputs": [
    {
     "name": "stderr",
     "output_type": "stream",
     "text": [
      "/home/cocse/anaconda3/lib/python3.7/site-packages/IPython/core/interactiveshell.py:3063: DtypeWarning: Columns (85) have mixed types.Specify dtype option on import or set low_memory=False.\n",
      "  interactivity=interactivity, compiler=compiler, result=result)\n"
     ]
    }
   ],
   "source": [
    "import pandas as pd\n",
    "\n",
    "#UDPLag = pd.read_csv('./03-11/UDPLag.csv')\n",
    "#UDP = pd.read_csv('./03-11/UDP.csv')\n",
    "#LDAP = pd.read_csv('./03-11/LDAP.csv')\n",
    "#MSSQL = pd.read_csv('./03-11/MSSQL.csv')\n",
    "#NetBIOS = pd.read_csv('./03-11/NetBIOS.csv')\n",
    "#Portmap = pd.read_csv('./03-11/Portmap.csv')\n",
    "Syn = pd.read_csv('./03-11/Syn.csv')\n",
    "#frames=[UDPLag,UDP,LDAP,MSSQL,NetBIOS,Portmap,Syn]\n",
    "\n",
    "frames=[Syn]\n",
    "trainData = pd.concat(frames)"
   ]
  },
  {
   "cell_type": "code",
   "execution_count": 3,
   "metadata": {},
   "outputs": [
    {
     "data": {
      "text/plain": [
       "Syn       4284751\n",
       "BENIGN      35790\n",
       "Name:  Label, dtype: int64"
      ]
     },
     "execution_count": 3,
     "metadata": {},
     "output_type": "execute_result"
    }
   ],
   "source": [
    "trainData[' Label'].value_counts() "
   ]
  },
  {
   "cell_type": "code",
   "execution_count": null,
   "metadata": {},
   "outputs": [],
   "source": [
    "frames=[MSSQL]\n",
    "trainData = pd.concat(frames)"
   ]
  },
  {
   "cell_type": "code",
   "execution_count": null,
   "metadata": {},
   "outputs": [],
   "source": [
    "import numpy as np\n",
    "def cleanData(trainData_):\n",
    "  colum_=trainData_.columns\n",
    "  columns=[]\n",
    "\n",
    "  for col in colum_:\n",
    "    #col_=col.replace('/', '_')\n",
    "    #col_=col_.replace(' ', '_')\n",
    "    columns.append(col.replace('/', '_'))\n",
    "    #print(col)\n",
    "\n",
    "  trainData_.columns=columns;\n",
    "\n",
    "  trainData_.dropna()\n",
    "  np.nan_to_num(trainData_)\n",
    "  trainData_.replace([np.inf, -np.inf], np.nan).notnull().all(axis=1)\n",
    "  trainData_.replace(np.nan,0)\n",
    "  row_mask=trainData_.isnull().any(axis=1)\n",
    "  col_mask=trainData_.isnull().any(axis=0) \n",
    "  rowNumber=0\n",
    "  dropRowIndexList=[]\n",
    "  for i in row_mask:\n",
    "    if i==True:\n",
    "      print(\"droping row\",rowNumber,i)\n",
    "      trainData_.drop(trainData_.index[[rowNumber-1,rowNumber+1]],axis=0)\n",
    "      dropRowIndexList.append(rowNumber)\n",
    "      #print(\"Sucess\")\n",
    "    rowNumber=rowNumber+1   \n",
    "  #trainData_.drop(dropRowIndexList)\n",
    "  trainData_=trainData_[~trainData_.isin([np.nan, np.inf, -np.inf]).any(1)]\n",
    "\n",
    "  print(\"Sucess\")\n",
    "  return trainData_"
   ]
  },
  {
   "cell_type": "code",
   "execution_count": null,
   "metadata": {},
   "outputs": [],
   "source": [
    "print(trainData.isnull().sum().sum())\n",
    "trainData=cleanData(trainData)\n",
    "print(trainData.isnull().sum().sum())"
   ]
  },
  {
   "cell_type": "code",
   "execution_count": null,
   "metadata": {},
   "outputs": [],
   "source": [
    "trainData[' Label'].value_counts() "
   ]
  },
  {
   "cell_type": "code",
   "execution_count": null,
   "metadata": {},
   "outputs": [],
   "source": [
    "\n",
    "\n",
    "\n",
    "X=trainData.drop(\" Label\",1)\n",
    "X=X.drop(\"Flow ID\",1)\n",
    "X=X.drop(\" Source IP\",1)\n",
    "X=X.drop(\" Destination IP\",1)\n",
    "X=X.drop(\" Timestamp\",1)\n",
    "X=X.drop(\"SimillarHTTP\",1)\n",
    "#X=X.dropna()\n",
    "\n",
    "Y=trainData[\" Label\"].astype('category')\n",
    "#X_train, X_test, y_train, y_test = train_test_split(X, Y, test_size=0.4, random_state=0)"
   ]
  },
  {
   "cell_type": "code",
   "execution_count": null,
   "metadata": {},
   "outputs": [],
   "source": [
    "mapping = {'MSSQL': 1, 'LDAP': 2, 'BENIGN':3}\n",
    "Y=Y.replace({\" Label\": mapping})\n"
   ]
  },
  {
   "cell_type": "code",
   "execution_count": null,
   "metadata": {},
   "outputs": [],
   "source": [
    "Y=Y.cat.rename_categories({'MSSQL': 1, 'LDAP': 2, 'BENIGN':3})"
   ]
  },
  {
   "cell_type": "code",
   "execution_count": null,
   "metadata": {},
   "outputs": [],
   "source": [
    "Y = tf.keras.utils.to_categorical(Y)"
   ]
  },
  {
   "cell_type": "code",
   "execution_count": null,
   "metadata": {},
   "outputs": [],
   "source": [
    "Y"
   ]
  },
  {
   "cell_type": "code",
   "execution_count": null,
   "metadata": {},
   "outputs": [],
   "source": [
    "\n"
   ]
  },
  {
   "cell_type": "code",
   "execution_count": null,
   "metadata": {},
   "outputs": [],
   "source": [
    "\n"
   ]
  },
  {
   "cell_type": "code",
   "execution_count": null,
   "metadata": {},
   "outputs": [],
   "source": []
  },
  {
   "cell_type": "code",
   "execution_count": null,
   "metadata": {},
   "outputs": [],
   "source": []
  },
  {
   "cell_type": "code",
   "execution_count": null,
   "metadata": {},
   "outputs": [],
   "source": [
    "\n",
    "\n",
    "from sklearn.preprocessing import StandardScaler\n",
    "sc = StandardScaler()\n",
    "X = sc.fit_transform(X)\n",
    "\n",
    "\n",
    "\n",
    "\n",
    "\n",
    "\n",
    "from sklearn.model_selection import train_test_split\n",
    "X_train, X_test, Y_train,Y_test = train_test_split(X, Y, test_size=0.4, random_state=0)\n"
   ]
  },
  {
   "cell_type": "code",
   "execution_count": null,
   "metadata": {},
   "outputs": [],
   "source": [
    "X_train.shape"
   ]
  },
  {
   "cell_type": "code",
   "execution_count": null,
   "metadata": {},
   "outputs": [],
   "source": [
    "import tensorflow as tf\n",
    "\n",
    "inputs = tf.keras.Input(shape=(82,))\n",
    "x = tf.keras.layers.Dense(4, activation=tf.nn.relu)(inputs)\n",
    "outputs = tf.keras.layers.Dense(5, activation=tf.nn.softmax)(x)\n",
    "modell = tf.keras.Model(inputs=inputs, outputs=outputs)\n"
   ]
  },
  {
   "cell_type": "code",
   "execution_count": null,
   "metadata": {},
   "outputs": [],
   "source": [
    "#Dependencies\n",
    "\n",
    "model =  tf.keras.Sequential()\n",
    "model.add(tf.keras.layers.Dense(16, input_dim=82, activation='relu'))\n",
    "model.add(tf.keras.layers.Dense(12, activation='relu'))\n",
    "model.add(tf.keras.layers.Dense(3, activation='softmax'))\n",
    "\n",
    "model.compile(loss='categorical_crossentropy', optimizer='adam', metrics=['accuracy'])\n",
    "history = model.fit(X_train, Y_train, epochs=100, batch_size=64)"
   ]
  },
  {
   "cell_type": "code",
   "execution_count": null,
   "metadata": {},
   "outputs": [],
   "source": []
  },
  {
   "cell_type": "code",
   "execution_count": null,
   "metadata": {},
   "outputs": [],
   "source": [
    "batch_size = 5 # A small batch sized is used for demonstration purposes\n",
    "train_ds = df_to_dataset(train, batch_size=batch_size)\n",
    "test_ds = df_to_dataset(test, shuffle=False, batch_size=batch_size)\n"
   ]
  }
 ],
 "metadata": {
  "kernelspec": {
   "display_name": "Python 3",
   "language": "python",
   "name": "python3"
  },
  "language_info": {
   "codemirror_mode": {
    "name": "ipython",
    "version": 3
   },
   "file_extension": ".py",
   "mimetype": "text/x-python",
   "name": "python",
   "nbconvert_exporter": "python",
   "pygments_lexer": "ipython3",
   "version": "3.7.6"
  }
 },
 "nbformat": 4,
 "nbformat_minor": 4
}
